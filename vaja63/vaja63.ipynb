{
 "metadata": {
  "language_info": {
   "codemirror_mode": {
    "name": "ipython",
    "version": 3
   },
   "file_extension": ".py",
   "mimetype": "text/x-python",
   "name": "python",
   "nbconvert_exporter": "python",
   "pygments_lexer": "ipython3",
   "version": "3.8.5"
  },
  "orig_nbformat": 2,
  "kernelspec": {
   "name": "python385jvsc74a57bd0916dbcbb3f70747c44a77c7bcd40155683ae19c65e1c03b4aa3499c5328201f1",
   "display_name": "Python 3.8.5 64-bit"
  },
  "metadata": {
   "interpreter": {
    "hash": "916dbcbb3f70747c44a77c7bcd40155683ae19c65e1c03b4aa3499c5328201f1"
   }
  }
 },
 "nbformat": 4,
 "nbformat_minor": 2,
 "cells": [
  {
   "source": [
    "# Meritev spektra z uklonsko mrežico\n",
    "### Gregor Kržmanc, 2. 5. 2021\n",
    "\n",
    "## 1. UVOD\n",
    "Uklonska mrežica je ploščica, v katero so enakomerno zarezane ravne tanke črte z medsebojno razdaljo $d$. Če nanjo pošljemo ozek curek svetlobe, lahko izmerimo kote, pod katerimi pride do konstruktivne interference posameznih komponent (valovnih dolžin) svetlobe: $$ d \\sin{\\alpha} = n \\lambda$$\n",
    "kjer je n celo število.\n",
    "\n",
    "Če mrežico zasučemo tako, da normala oklepa kot $\\phi$ s smerjo vpadajočega curka (kot merimo s predznakom + v pozitivni smeri), konstruktivne interference izmerimo pri kotih $\\theta$ tako, da je izpolnjen naslednji pogoj: (kot merimo od centralnega maksimuma)\n",
    "*  $ d(\\sin{(-\\theta+\\phi)}-\\sin{\\phi})=n\\lambda$ za kote $\\theta < 0$ (predznak kota $\\theta$ je + v pozitivni smeri) \n",
    "*  $ d(\\sin{(\\theta-\\phi)}+\\sin{\\phi})=n\\lambda$ za kote $\\theta > 0$ (predznak kota $\\theta$ je + v pozitivni smeri) \n",
    "\n",
    "\n",
    "## 2. NALOGA\n",
    "Izmeriti, iz katerih valovnih dolžin vidne svetlobe je sestavljen spekter živosrebrne svetilke."
   ],
   "cell_type": "markdown",
   "metadata": {}
  },
  {
   "source": [
    "## 3. MERITVE\n",
    "Meritve izvedeno na dva načina:\n",
    "- mrežico nastavimo tako, da curek nanjo vpada pravokotno\n",
    "- mrežico iz prejšnje točke zarotiramo za kot $\\phi = 20°$\n",
    "\n",
    "Pri odčitavanju vrednosti s kotomera zanemarimo napako. Napako valovne dolžine ocenimo na koncu iz variance vseh meritev valovnih dolžin posamezne barve (iz obeh načinov, različnih redov intereferenc...).\n",
    "\n",
    "Podatek (konstanta mrežice): $d=1/600 mm$"
   ],
   "cell_type": "markdown",
   "metadata": {}
  },
  {
   "cell_type": "code",
   "execution_count": 15,
   "metadata": {},
   "outputs": [],
   "source": [
    "import numpy as np\n",
    "import pandas as pd\n",
    "from uncertainties import unumpy\n",
    "\n",
    "d = 1/600 * 1e-3 # distance between slits on diffraction grating\n",
    "\n",
    "alpha_zero = 176.5\n",
    "\n",
    "measurements = np.array([161.4, 191.6, 157.4, 195.6, 156.2, 196.7, 156.1, 196.9, 208.0, 217.6])\n",
    "alpha = measurements - alpha_zero\n",
    "deg = np.array([1, -1, 1, -1, 1, -1, 1, -1, -2, -2])\n",
    "colors = np.array(['vijolicna', 'vijolicna', 'zelena', 'zelena', 'rumena1', 'rumena1', 'rumena2', 'rumena2', 'vijolicna', 'zelena'])\n",
    "\n",
    "wavelen = - d * np.sin(np.radians(alpha)) / deg\n",
    "phi = 20\n",
    "theta_zero = 196.5\n",
    "\n",
    "# meritve levo\n",
    "meas1 = np.array([181.4, 166.2, 177.3, 158.4, 176.4, 176.3])\n",
    "th1 = theta_zero - meas1\n",
    "n1 = np.array([1,2,1,2,1,1])\n",
    "c1 = np.array(['vijolicna', 'vijolicna', 'zelena', 'zelena', 'rumena1', 'rumena2'])\n",
    "w1 = d * (np.sin(np.radians(20)) + np.sin(np.radians(th1 - phi))) / n1\n",
    "\n",
    "# meritve desno\n",
    "\n",
    "meas2 = np.array([213.7, 237, 218.6, 220.1, 220.2])\n",
    "th2 = meas2 - theta_zero\n",
    "n2 = np.array([1, 2, 1, 1, 1])\n",
    "c2 = np.array(['vijolicna', 'vijolicna', 'zelena', 'rumena1', 'rumena2'])\n",
    "w2 = d * (np.sin(-np.radians(20)) + np.sin(np.radians(th2 + phi)))/ n2\n",
    "\n",
    "data = pd.DataFrame({'barva': colors, 'stopnja (n)': deg, 'α\\' [°]': measurements, 'α\\'-α(0)': alpha})\n",
    "data2 = pd.DataFrame({'barva': c1, 'stopnja (n)': n1, 'θ\\' [°]' : meas1,  'θ\\'-θ(0)': th1})\n",
    "data3 = pd.DataFrame({'barva': c2, 'stopnja (n)': n2, 'θ\\' [°]' : meas2,  'θ\\'-θ(0)': th2})\n",
    "\n",
    "df1 = pd.DataFrame({'barva': colors, 'n': deg, 'λ [nm]': wavelen * 1e9})\n",
    "df2 = pd.DataFrame({'barva': c1,'n': n1, 'λ [nm]': w1 * 1e9})\n",
    "df3 = pd.DataFrame({'barva': c2,'n': n2, 'λ [nm]': w2 * 1e9})\n",
    "df12 = pd.concat([df1, df2, df3]).drop(columns=['n'])\n",
    "gr = df12.groupby('barva')\n",
    "ind = gr.mean().index\n",
    "result = unumpy.uarray(gr.mean(), gr.std())\n",
    "result = pd.DataFrame(result, index=list(ind), columns=['λ [nm]'])\n"
   ]
  },
  {
   "source": [
    "### Pravokotno vpadanje svetlobe na mrežico\n",
    "Izmerimo začetno pozicijo kotomera pri centralnem maksimumu: $\\alpha_0 = 176.5°$, ki jo odštejemo od izmerkov: $\\alpha$ = $\\alpha' - \\alpha_0$.\n",
    "\n",
    "Opazimo tri različne barve: vijolično, zeleno in rumeno. Rumeni interferenci sta dve in se razlikujeta za ca. 0.1 °, zato izmerimo pozicije vsake posebej. "
   ],
   "cell_type": "markdown",
   "metadata": {}
  },
  {
   "cell_type": "code",
   "execution_count": 16,
   "metadata": {},
   "outputs": [
    {
     "output_type": "display_data",
     "data": {
      "text/plain": "       barva  stopnja (n)  α' [°]  α'-α(0)\n0  vijolicna            1   161.4    -15.1\n1  vijolicna           -1   191.6     15.1\n2     zelena            1   157.4    -19.1\n3     zelena           -1   195.6     19.1\n4    rumena1            1   156.2    -20.3\n5    rumena1           -1   196.7     20.2\n6    rumena2            1   156.1    -20.4\n7    rumena2           -1   196.9     20.4\n8  vijolicna           -2   208.0     31.5\n9     zelena           -2   217.6     41.1",
      "text/html": "<div>\n<style scoped>\n    .dataframe tbody tr th:only-of-type {\n        vertical-align: middle;\n    }\n\n    .dataframe tbody tr th {\n        vertical-align: top;\n    }\n\n    .dataframe thead th {\n        text-align: right;\n    }\n</style>\n<table border=\"1\" class=\"dataframe\">\n  <thead>\n    <tr style=\"text-align: right;\">\n      <th></th>\n      <th>barva</th>\n      <th>stopnja (n)</th>\n      <th>α' [°]</th>\n      <th>α'-α(0)</th>\n    </tr>\n  </thead>\n  <tbody>\n    <tr>\n      <th>0</th>\n      <td>vijolicna</td>\n      <td>1</td>\n      <td>161.4</td>\n      <td>-15.1</td>\n    </tr>\n    <tr>\n      <th>1</th>\n      <td>vijolicna</td>\n      <td>-1</td>\n      <td>191.6</td>\n      <td>15.1</td>\n    </tr>\n    <tr>\n      <th>2</th>\n      <td>zelena</td>\n      <td>1</td>\n      <td>157.4</td>\n      <td>-19.1</td>\n    </tr>\n    <tr>\n      <th>3</th>\n      <td>zelena</td>\n      <td>-1</td>\n      <td>195.6</td>\n      <td>19.1</td>\n    </tr>\n    <tr>\n      <th>4</th>\n      <td>rumena1</td>\n      <td>1</td>\n      <td>156.2</td>\n      <td>-20.3</td>\n    </tr>\n    <tr>\n      <th>5</th>\n      <td>rumena1</td>\n      <td>-1</td>\n      <td>196.7</td>\n      <td>20.2</td>\n    </tr>\n    <tr>\n      <th>6</th>\n      <td>rumena2</td>\n      <td>1</td>\n      <td>156.1</td>\n      <td>-20.4</td>\n    </tr>\n    <tr>\n      <th>7</th>\n      <td>rumena2</td>\n      <td>-1</td>\n      <td>196.9</td>\n      <td>20.4</td>\n    </tr>\n    <tr>\n      <th>8</th>\n      <td>vijolicna</td>\n      <td>-2</td>\n      <td>208.0</td>\n      <td>31.5</td>\n    </tr>\n    <tr>\n      <th>9</th>\n      <td>zelena</td>\n      <td>-2</td>\n      <td>217.6</td>\n      <td>41.1</td>\n    </tr>\n  </tbody>\n</table>\n</div>"
     },
     "metadata": {}
    }
   ],
   "source": [
    "display(data)"
   ]
  },
  {
   "source": [
    "\n",
    "### Pod kotom 20°\n",
    "$\\theta_0 = 196.5°$"
   ],
   "cell_type": "markdown",
   "metadata": {}
  },
  {
   "cell_type": "code",
   "execution_count": 17,
   "metadata": {},
   "outputs": [
    {
     "output_type": "display_data",
     "data": {
      "text/plain": "       barva  stopnja (n)  θ' [°]  θ'-θ(0)\n0  vijolicna            1   181.4     15.1\n1  vijolicna            2   166.2     30.3\n2     zelena            1   177.3     19.2\n3     zelena            2   158.4     38.1\n4    rumena1            1   176.4     20.1\n5    rumena2            1   176.3     20.2",
      "text/html": "<div>\n<style scoped>\n    .dataframe tbody tr th:only-of-type {\n        vertical-align: middle;\n    }\n\n    .dataframe tbody tr th {\n        vertical-align: top;\n    }\n\n    .dataframe thead th {\n        text-align: right;\n    }\n</style>\n<table border=\"1\" class=\"dataframe\">\n  <thead>\n    <tr style=\"text-align: right;\">\n      <th></th>\n      <th>barva</th>\n      <th>stopnja (n)</th>\n      <th>θ' [°]</th>\n      <th>θ'-θ(0)</th>\n    </tr>\n  </thead>\n  <tbody>\n    <tr>\n      <th>0</th>\n      <td>vijolicna</td>\n      <td>1</td>\n      <td>181.4</td>\n      <td>15.1</td>\n    </tr>\n    <tr>\n      <th>1</th>\n      <td>vijolicna</td>\n      <td>2</td>\n      <td>166.2</td>\n      <td>30.3</td>\n    </tr>\n    <tr>\n      <th>2</th>\n      <td>zelena</td>\n      <td>1</td>\n      <td>177.3</td>\n      <td>19.2</td>\n    </tr>\n    <tr>\n      <th>3</th>\n      <td>zelena</td>\n      <td>2</td>\n      <td>158.4</td>\n      <td>38.1</td>\n    </tr>\n    <tr>\n      <th>4</th>\n      <td>rumena1</td>\n      <td>1</td>\n      <td>176.4</td>\n      <td>20.1</td>\n    </tr>\n    <tr>\n      <th>5</th>\n      <td>rumena2</td>\n      <td>1</td>\n      <td>176.3</td>\n      <td>20.2</td>\n    </tr>\n  </tbody>\n</table>\n</div>"
     },
     "metadata": {}
    }
   ],
   "source": [
    "display(data2)"
   ]
  },
  {
   "source": [
    "## 4. REZULTATI\n",
    "#### 4.1 Valovne dolžine, izračunane iz meritev pod pravim kotom:"
   ],
   "cell_type": "markdown",
   "metadata": {}
  },
  {
   "cell_type": "code",
   "execution_count": 18,
   "metadata": {},
   "outputs": [
    {
     "output_type": "display_data",
     "data": {
      "text/plain": "       barva  n      λ [nm]\n0  vijolicna  1  434.174181\n1  vijolicna -1  434.174181\n2     zelena  1  545.363165\n3     zelena -1  545.363165\n4    rumena1  1  578.226086\n5    rumena1 -1  575.496998\n6    rumena2  1  580.953412\n7    rumena2 -1  580.953412\n8  vijolicna -2  435.415471\n9     zelena -2  547.812705",
      "text/html": "<div>\n<style scoped>\n    .dataframe tbody tr th:only-of-type {\n        vertical-align: middle;\n    }\n\n    .dataframe tbody tr th {\n        vertical-align: top;\n    }\n\n    .dataframe thead th {\n        text-align: right;\n    }\n</style>\n<table border=\"1\" class=\"dataframe\">\n  <thead>\n    <tr style=\"text-align: right;\">\n      <th></th>\n      <th>barva</th>\n      <th>n</th>\n      <th>λ [nm]</th>\n    </tr>\n  </thead>\n  <tbody>\n    <tr>\n      <th>0</th>\n      <td>vijolicna</td>\n      <td>1</td>\n      <td>434.174181</td>\n    </tr>\n    <tr>\n      <th>1</th>\n      <td>vijolicna</td>\n      <td>-1</td>\n      <td>434.174181</td>\n    </tr>\n    <tr>\n      <th>2</th>\n      <td>zelena</td>\n      <td>1</td>\n      <td>545.363165</td>\n    </tr>\n    <tr>\n      <th>3</th>\n      <td>zelena</td>\n      <td>-1</td>\n      <td>545.363165</td>\n    </tr>\n    <tr>\n      <th>4</th>\n      <td>rumena1</td>\n      <td>1</td>\n      <td>578.226086</td>\n    </tr>\n    <tr>\n      <th>5</th>\n      <td>rumena1</td>\n      <td>-1</td>\n      <td>575.496998</td>\n    </tr>\n    <tr>\n      <th>6</th>\n      <td>rumena2</td>\n      <td>1</td>\n      <td>580.953412</td>\n    </tr>\n    <tr>\n      <th>7</th>\n      <td>rumena2</td>\n      <td>-1</td>\n      <td>580.953412</td>\n    </tr>\n    <tr>\n      <th>8</th>\n      <td>vijolicna</td>\n      <td>-2</td>\n      <td>435.415471</td>\n    </tr>\n    <tr>\n      <th>9</th>\n      <td>zelena</td>\n      <td>-2</td>\n      <td>547.812705</td>\n    </tr>\n  </tbody>\n</table>\n</div>"
     },
     "metadata": {}
    }
   ],
   "source": [
    "display(df1)"
   ]
  },
  {
   "source": [
    "### 4.2 Valovne dolžine, izračunane iz meritev iz zamaknjene mrežice za 20°"
   ],
   "cell_type": "markdown",
   "metadata": {}
  },
  {
   "cell_type": "code",
   "execution_count": 21,
   "metadata": {},
   "outputs": [
    {
     "output_type": "stream",
     "name": "stdout",
     "text": [
      "4.2.1 z zamikom v levo: (θ > 0)\n"
     ]
    },
    {
     "output_type": "display_data",
     "data": {
      "text/plain": "       barva  n      λ [nm]\n0  vijolicna  1  427.672034\n1  vijolicna  2  434.018632\n2     zelena  1  546.763272\n3     zelena  2  543.913811\n4    rumena1  1  572.942453\n5    rumena2  1  575.851325",
      "text/html": "<div>\n<style scoped>\n    .dataframe tbody tr th:only-of-type {\n        vertical-align: middle;\n    }\n\n    .dataframe tbody tr th {\n        vertical-align: top;\n    }\n\n    .dataframe thead th {\n        text-align: right;\n    }\n</style>\n<table border=\"1\" class=\"dataframe\">\n  <thead>\n    <tr style=\"text-align: right;\">\n      <th></th>\n      <th>barva</th>\n      <th>n</th>\n      <th>λ [nm]</th>\n    </tr>\n  </thead>\n  <tbody>\n    <tr>\n      <th>0</th>\n      <td>vijolicna</td>\n      <td>1</td>\n      <td>427.672034</td>\n    </tr>\n    <tr>\n      <th>1</th>\n      <td>vijolicna</td>\n      <td>2</td>\n      <td>434.018632</td>\n    </tr>\n    <tr>\n      <th>2</th>\n      <td>zelena</td>\n      <td>1</td>\n      <td>546.763272</td>\n    </tr>\n    <tr>\n      <th>3</th>\n      <td>zelena</td>\n      <td>2</td>\n      <td>543.913811</td>\n    </tr>\n    <tr>\n      <th>4</th>\n      <td>rumena1</td>\n      <td>1</td>\n      <td>572.942453</td>\n    </tr>\n    <tr>\n      <th>5</th>\n      <td>rumena2</td>\n      <td>1</td>\n      <td>575.851325</td>\n    </tr>\n  </tbody>\n</table>\n</div>"
     },
     "metadata": {}
    },
    {
     "output_type": "stream",
     "name": "stdout",
     "text": [
      "4.2.2 z zamikom v desno: (θ < 0)\n"
     ]
    },
    {
     "output_type": "display_data",
     "data": {
      "text/plain": "       barva  n      λ [nm]\n0  vijolicna  1  437.631619\n1  vijolicna  2  440.279627\n2     zelena  1  547.344126\n3    rumena1  1  579.332334\n4    rumena2  1  581.437113",
      "text/html": "<div>\n<style scoped>\n    .dataframe tbody tr th:only-of-type {\n        vertical-align: middle;\n    }\n\n    .dataframe tbody tr th {\n        vertical-align: top;\n    }\n\n    .dataframe thead th {\n        text-align: right;\n    }\n</style>\n<table border=\"1\" class=\"dataframe\">\n  <thead>\n    <tr style=\"text-align: right;\">\n      <th></th>\n      <th>barva</th>\n      <th>n</th>\n      <th>λ [nm]</th>\n    </tr>\n  </thead>\n  <tbody>\n    <tr>\n      <th>0</th>\n      <td>vijolicna</td>\n      <td>1</td>\n      <td>437.631619</td>\n    </tr>\n    <tr>\n      <th>1</th>\n      <td>vijolicna</td>\n      <td>2</td>\n      <td>440.279627</td>\n    </tr>\n    <tr>\n      <th>2</th>\n      <td>zelena</td>\n      <td>1</td>\n      <td>547.344126</td>\n    </tr>\n    <tr>\n      <th>3</th>\n      <td>rumena1</td>\n      <td>1</td>\n      <td>579.332334</td>\n    </tr>\n    <tr>\n      <th>4</th>\n      <td>rumena2</td>\n      <td>1</td>\n      <td>581.437113</td>\n    </tr>\n  </tbody>\n</table>\n</div>"
     },
     "metadata": {}
    }
   ],
   "source": [
    "print('4.2.1 z zamikom v levo: (θ > 0)')\n",
    "display(df2)\n",
    "print('4.2.2 z zamikom v desno: (θ < 0)')\n",
    "display(df3)"
   ]
  },
  {
   "source": [
    "### 4.3 Končni rezultati"
   ],
   "cell_type": "markdown",
   "metadata": {}
  },
  {
   "cell_type": "code",
   "execution_count": 20,
   "metadata": {},
   "outputs": [
    {
     "output_type": "display_data",
     "data": {
      "text/plain": "                λ [nm]\nrumena1    576.5+/-2.9\nrumena2    579.8+/-2.6\nvijolicna      435+/-4\nzelena     546.1+/-1.5",
      "text/html": "<div>\n<style scoped>\n    .dataframe tbody tr th:only-of-type {\n        vertical-align: middle;\n    }\n\n    .dataframe tbody tr th {\n        vertical-align: top;\n    }\n\n    .dataframe thead th {\n        text-align: right;\n    }\n</style>\n<table border=\"1\" class=\"dataframe\">\n  <thead>\n    <tr style=\"text-align: right;\">\n      <th></th>\n      <th>λ [nm]</th>\n    </tr>\n  </thead>\n  <tbody>\n    <tr>\n      <th>rumena1</th>\n      <td>576.5+/-2.9</td>\n    </tr>\n    <tr>\n      <th>rumena2</th>\n      <td>579.8+/-2.6</td>\n    </tr>\n    <tr>\n      <th>vijolicna</th>\n      <td>435+/-4</td>\n    </tr>\n    <tr>\n      <th>zelena</th>\n      <td>546.1+/-1.5</td>\n    </tr>\n  </tbody>\n</table>\n</div>"
     },
     "metadata": {}
    }
   ],
   "source": [
    "display(result)"
   ]
  },
  {
   "source": [
    "## 5. INTERPRETACIJA\n",
    "Naši rezultati se v okviru napak ujemajo s tipičnimi valovnimi dolžinami za spekter živosrebrne svetilke. (vir: https://www.rp-photonics.com/mercury_vapor_lamps.html)"
   ],
   "cell_type": "markdown",
   "metadata": {}
  },
  {
   "cell_type": "code",
   "execution_count": null,
   "metadata": {},
   "outputs": [],
   "source": []
  }
 ]
}